{
 "cells": [
  {
   "cell_type": "code",
   "execution_count": 14,
   "metadata": {},
   "outputs": [],
   "source": [
    "import pandas as pd\n",
    "import os \n",
    "import numpy as np\n",
    "\n",
    "ruta = os.path.abspath('../Datasets')"
   ]
  },
  {
   "cell_type": "code",
   "execution_count": 15,
   "metadata": {},
   "outputs": [],
   "source": [
    "df_clientes = pd.read_csv(ruta+'/Clientes.csv', sep=';', encoding='utf-8')"
   ]
  },
  {
   "cell_type": "code",
   "execution_count": 16,
   "metadata": {},
   "outputs": [
    {
     "data": {
      "text/plain": [
       "0"
      ]
     },
     "execution_count": 16,
     "metadata": {},
     "output_type": "execute_result"
    }
   ],
   "source": [
    "#eliminando IdCompra\n",
    "df_clientes.drop(['ID'],axis=1,inplace=True)\n",
    "#filas duplicadas\n",
    "df_clientes.duplicated().sum()"
   ]
  },
  {
   "cell_type": "code",
   "execution_count": 17,
   "metadata": {},
   "outputs": [
    {
     "name": "stdout",
     "output_type": "stream",
     "text": [
      "<class 'pandas.core.frame.DataFrame'>\n",
      "RangeIndex: 2384 entries, 0 to 2383\n",
      "Data columns (total 9 columns):\n",
      " #   Column             Non-Null Count  Dtype  \n",
      "---  ------             --------------  -----  \n",
      " 0   Provincia          2359 non-null   object \n",
      " 1   Nombre_y_Apellido  2365 non-null   object \n",
      " 2   Domicilio          2341 non-null   object \n",
      " 3   Telefono           2353 non-null   object \n",
      " 4   Edad               2384 non-null   int64  \n",
      " 5   Localidad          2359 non-null   object \n",
      " 6   X                  2331 non-null   object \n",
      " 7   Y                  2332 non-null   object \n",
      " 8   col10              0 non-null      float64\n",
      "dtypes: float64(1), int64(1), object(7)\n",
      "memory usage: 167.8+ KB\n"
     ]
    }
   ],
   "source": [
    "df_clientes.info()"
   ]
  },
  {
   "cell_type": "markdown",
   "metadata": {},
   "source": [
    "Vemos que la columna col10 está vacía, para no llenar nuestra base de datos con columnas vacía procedremos a eliminarla. \n",
    "A la vez crearemos una función que elimine todas las columnas vacías que existan en la tabla."
   ]
  },
  {
   "cell_type": "code",
   "execution_count": 18,
   "metadata": {},
   "outputs": [],
   "source": [
    "def eliminar_columnas_vacías(df):\n",
    "    #eliminando las columnas vacias\n",
    "    column_drop = [column for column in df if df[column].isna().sum() == df.shape[0]]\n",
    "    df.drop(column_drop, axis=1, inplace=True)\n",
    "    return df"
   ]
  },
  {
   "cell_type": "code",
   "execution_count": 19,
   "metadata": {},
   "outputs": [
    {
     "data": {
      "text/html": [
       "<div>\n",
       "<style scoped>\n",
       "    .dataframe tbody tr th:only-of-type {\n",
       "        vertical-align: middle;\n",
       "    }\n",
       "\n",
       "    .dataframe tbody tr th {\n",
       "        vertical-align: top;\n",
       "    }\n",
       "\n",
       "    .dataframe thead th {\n",
       "        text-align: right;\n",
       "    }\n",
       "</style>\n",
       "<table border=\"1\" class=\"dataframe\">\n",
       "  <thead>\n",
       "    <tr style=\"text-align: right;\">\n",
       "      <th></th>\n",
       "      <th>Provincia</th>\n",
       "      <th>Nombre_Apellido</th>\n",
       "      <th>Domicilio</th>\n",
       "      <th>Telefono</th>\n",
       "      <th>Edad</th>\n",
       "      <th>Localidad</th>\n",
       "      <th>Longitud</th>\n",
       "      <th>Latitud</th>\n",
       "    </tr>\n",
       "  </thead>\n",
       "  <tbody>\n",
       "    <tr>\n",
       "      <th>0</th>\n",
       "      <td>Buenos Aires</td>\n",
       "      <td>HEBER JONI SANTANA</td>\n",
       "      <td>LAS HERAS Y BAT. 24 DE FEBRERO 4150  RINCON DE...</td>\n",
       "      <td>42-5161</td>\n",
       "      <td>58</td>\n",
       "      <td>LOMA VERDE</td>\n",
       "      <td>-58,81850307</td>\n",
       "      <td>-34,30997088</td>\n",
       "    </tr>\n",
       "    <tr>\n",
       "      <th>1</th>\n",
       "      <td>Buenos Aires</td>\n",
       "      <td>ANA SAPRIZA</td>\n",
       "      <td>PUEYRREDON Y DUPUY RUTA3 KM 52.500 S/N  BÂº LO...</td>\n",
       "      <td>49-7578</td>\n",
       "      <td>61</td>\n",
       "      <td>SANTA ROSA</td>\n",
       "      <td>-58,73073751</td>\n",
       "      <td>-34,93908311</td>\n",
       "    </tr>\n",
       "    <tr>\n",
       "      <th>2</th>\n",
       "      <td>Buenos Aires</td>\n",
       "      <td>FERNANDO LUIS SARALEGUI</td>\n",
       "      <td>CALDERON DE LA BARCA 498</td>\n",
       "      <td>49-3435</td>\n",
       "      <td>15</td>\n",
       "      <td>TORRES</td>\n",
       "      <td>-59,12794068</td>\n",
       "      <td>-34,43082199</td>\n",
       "    </tr>\n",
       "    <tr>\n",
       "      <th>3</th>\n",
       "      <td>Buenos Aires</td>\n",
       "      <td>MANUELA SARASOLA</td>\n",
       "      <td>RUTA 36 KM 45, 500 S/N  EL PELIGRO</td>\n",
       "      <td>49-2883</td>\n",
       "      <td>29</td>\n",
       "      <td>RUTA SOL</td>\n",
       "      <td>-58,14393954</td>\n",
       "      <td>-34,92052706</td>\n",
       "    </tr>\n",
       "  </tbody>\n",
       "</table>\n",
       "</div>"
      ],
      "text/plain": [
       "      Provincia          Nombre_Apellido  \\\n",
       "0  Buenos Aires       HEBER JONI SANTANA   \n",
       "1  Buenos Aires              ANA SAPRIZA   \n",
       "2  Buenos Aires  FERNANDO LUIS SARALEGUI   \n",
       "3  Buenos Aires         MANUELA SARASOLA   \n",
       "\n",
       "                                           Domicilio Telefono  Edad  \\\n",
       "0  LAS HERAS Y BAT. 24 DE FEBRERO 4150  RINCON DE...  42-5161    58   \n",
       "1  PUEYRREDON Y DUPUY RUTA3 KM 52.500 S/N  BÂº LO...  49-7578    61   \n",
       "2                           CALDERON DE LA BARCA 498  49-3435    15   \n",
       "3                 RUTA 36 KM 45, 500 S/N  EL PELIGRO  49-2883    29   \n",
       "\n",
       "    Localidad      Longitud       Latitud  \n",
       "0  LOMA VERDE  -58,81850307  -34,30997088  \n",
       "1  SANTA ROSA  -58,73073751  -34,93908311  \n",
       "2      TORRES  -59,12794068  -34,43082199  \n",
       "3    RUTA SOL  -58,14393954  -34,92052706  "
      ]
     },
     "execution_count": 19,
     "metadata": {},
     "output_type": "execute_result"
    }
   ],
   "source": [
    "df_clientes = eliminar_columnas_vacías(df_clientes)\n",
    "#renombrando columnas\n",
    "df_clientes.rename({'Nombre_y_Apellido': 'Nombre_Apellido', 'X':'Longitud', 'Y':'Latitud'}, axis=1, inplace=True)\n",
    "df_clientes.head(4)"
   ]
  },
  {
   "cell_type": "markdown",
   "metadata": {},
   "source": [
    "## Valores Nulos"
   ]
  },
  {
   "cell_type": "code",
   "execution_count": 20,
   "metadata": {},
   "outputs": [],
   "source": [
    "#capturando los valores nulos por columna\n",
    "def valor_nulo(e):\n",
    "    diccionario = {}\n",
    "    for column in e.columns:\n",
    "        val_nul = e[column].isna().sum()\n",
    "        diccionario[column] = int(val_nul)\n",
    "\n",
    "    return diccionario  "
   ]
  },
  {
   "cell_type": "code",
   "execution_count": 21,
   "metadata": {},
   "outputs": [
    {
     "data": {
      "text/plain": [
       "[['Provincia', 25],\n",
       " ['Nombre_Apellido', 19],\n",
       " ['Domicilio', 43],\n",
       " ['Telefono', 31],\n",
       " ['Localidad', 25],\n",
       " ['Longitud', 53],\n",
       " ['Latitud', 52]]"
      ]
     },
     "execution_count": 21,
     "metadata": {},
     "output_type": "execute_result"
    }
   ],
   "source": [
    "nulo = valor_nulo(df_clientes)\n",
    "nulo = [[key, nulo[key]] for key in nulo.keys() if nulo[key] > 0]\n",
    "nulo"
   ]
  },
  {
   "cell_type": "code",
   "execution_count": 22,
   "metadata": {},
   "outputs": [],
   "source": [
    "#Reemplazamos los valores nulos\n",
    "df_clientes.fillna({'Provincia':'Sin Dato', 'Nombre_Apellido':'Sin Dato',\n",
    "                    'Domicilio':'sin Dato', 'Telefono':'Sin Dato',\n",
    "                    'Localidad':'Sin dato', 'Longitud':'0', 'Latitud':'0'}, inplace=True)"
   ]
  },
  {
   "cell_type": "code",
   "execution_count": 25,
   "metadata": {},
   "outputs": [],
   "source": [
    "#reemplazo de coma a punto decimal\n",
    "df_clientes['Longitud'] = df_clientes['Longitud'].str.replace(\",\", \".\")\n",
    "df_clientes['Latitud'] = df_clientes['Latitud'].str.replace(\",\", \".\")"
   ]
  },
  {
   "cell_type": "markdown",
   "metadata": {},
   "source": [
    "## Normalizando"
   ]
  },
  {
   "cell_type": "code",
   "execution_count": 84,
   "metadata": {},
   "outputs": [],
   "source": [
    "df_clientes['Provincia'] = df_clientes['Provincia'].str.title()\n",
    "df_clientes['Nombre_Apellido'] = df_clientes['Nombre_Apellido'].str.title()\n",
    "df_clientes['Domicilio'] = df_clientes['Domicilio'].str.capitalize()\n",
    "df_clientes['Localidad'] = df_clientes['Localidad'].str.title()"
   ]
  },
  {
   "cell_type": "code",
   "execution_count": 85,
   "metadata": {},
   "outputs": [],
   "source": [
    "df_clientes['Provincia'] = df_clientes['Provincia'].str.replace(\"Ciudad De Buenos Aires\", \"Buenos Aires\")"
   ]
  }
 ],
 "metadata": {
  "kernelspec": {
   "display_name": "Python 3.10.4 64-bit",
   "language": "python",
   "name": "python3"
  },
  "language_info": {
   "codemirror_mode": {
    "name": "ipython",
    "version": 3
   },
   "file_extension": ".py",
   "mimetype": "text/x-python",
   "name": "python",
   "nbconvert_exporter": "python",
   "pygments_lexer": "ipython3",
   "version": "3.10.4"
  },
  "orig_nbformat": 4,
  "vscode": {
   "interpreter": {
    "hash": "369f2c481f4da34e4445cda3fffd2e751bd1c4d706f27375911949ba6bb62e1c"
   }
  }
 },
 "nbformat": 4,
 "nbformat_minor": 2
}
