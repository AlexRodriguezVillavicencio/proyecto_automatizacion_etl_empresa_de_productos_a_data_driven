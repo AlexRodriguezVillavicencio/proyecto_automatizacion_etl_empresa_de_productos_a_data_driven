{
 "cells": [
  {
   "cell_type": "code",
   "execution_count": 1,
   "metadata": {},
   "outputs": [],
   "source": [
    "import pandas as pd\n",
    "import os \n",
    "import numpy as np\n",
    "\n",
    "ruta = os.path.abspath('../Datasets')"
   ]
  },
  {
   "cell_type": "code",
   "execution_count": 15,
   "metadata": {},
   "outputs": [],
   "source": [
    "df_venta = pd.read_csv(ruta+'/Venta.csv', sep=',', encoding='utf-8')"
   ]
  },
  {
   "cell_type": "code",
   "execution_count": 7,
   "metadata": {},
   "outputs": [
    {
     "data": {
      "text/html": [
       "<div>\n",
       "<style scoped>\n",
       "    .dataframe tbody tr th:only-of-type {\n",
       "        vertical-align: middle;\n",
       "    }\n",
       "\n",
       "    .dataframe tbody tr th {\n",
       "        vertical-align: top;\n",
       "    }\n",
       "\n",
       "    .dataframe thead th {\n",
       "        text-align: right;\n",
       "    }\n",
       "</style>\n",
       "<table border=\"1\" class=\"dataframe\">\n",
       "  <thead>\n",
       "    <tr style=\"text-align: right;\">\n",
       "      <th></th>\n",
       "      <th>IdVenta</th>\n",
       "      <th>Fecha</th>\n",
       "      <th>Fecha_Entrega</th>\n",
       "      <th>IdCanal</th>\n",
       "      <th>IdCliente</th>\n",
       "      <th>IdSucursal</th>\n",
       "      <th>IdEmpleado</th>\n",
       "      <th>IdProducto</th>\n",
       "      <th>Precio</th>\n",
       "      <th>Cantidad</th>\n",
       "    </tr>\n",
       "  </thead>\n",
       "  <tbody>\n",
       "    <tr>\n",
       "      <th>0</th>\n",
       "      <td>1</td>\n",
       "      <td>2018-03-09</td>\n",
       "      <td>2018-03-17</td>\n",
       "      <td>3</td>\n",
       "      <td>969</td>\n",
       "      <td>13</td>\n",
       "      <td>1674</td>\n",
       "      <td>42817</td>\n",
       "      <td>813.12</td>\n",
       "      <td>2.0</td>\n",
       "    </tr>\n",
       "    <tr>\n",
       "      <th>1</th>\n",
       "      <td>2</td>\n",
       "      <td>2018-12-28</td>\n",
       "      <td>2018-12-29</td>\n",
       "      <td>2</td>\n",
       "      <td>884</td>\n",
       "      <td>13</td>\n",
       "      <td>1674</td>\n",
       "      <td>42795</td>\n",
       "      <td>543.18</td>\n",
       "      <td>3.0</td>\n",
       "    </tr>\n",
       "    <tr>\n",
       "      <th>2</th>\n",
       "      <td>3</td>\n",
       "      <td>2016-03-28</td>\n",
       "      <td>2016-03-31</td>\n",
       "      <td>2</td>\n",
       "      <td>1722</td>\n",
       "      <td>13</td>\n",
       "      <td>1674</td>\n",
       "      <td>42837</td>\n",
       "      <td>430.32</td>\n",
       "      <td>1.0</td>\n",
       "    </tr>\n",
       "  </tbody>\n",
       "</table>\n",
       "</div>"
      ],
      "text/plain": [
       "   IdVenta       Fecha Fecha_Entrega  IdCanal  IdCliente  IdSucursal  \\\n",
       "0        1  2018-03-09    2018-03-17        3        969          13   \n",
       "1        2  2018-12-28    2018-12-29        2        884          13   \n",
       "2        3  2016-03-28    2016-03-31        2       1722          13   \n",
       "\n",
       "   IdEmpleado  IdProducto  Precio  Cantidad  \n",
       "0        1674       42817  813.12       2.0  \n",
       "1        1674       42795  543.18       3.0  \n",
       "2        1674       42837  430.32       1.0  "
      ]
     },
     "execution_count": 7,
     "metadata": {},
     "output_type": "execute_result"
    }
   ],
   "source": [
    "df_venta.head(3)"
   ]
  },
  {
   "cell_type": "markdown",
   "metadata": {},
   "source": [
    "Vemos que la tabla de venta tiene una estructura similar a la de compras, usaremos el mismo análisis por ahora"
   ]
  },
  {
   "cell_type": "markdown",
   "metadata": {},
   "source": [
    "## Filas Duplicadas"
   ]
  },
  {
   "cell_type": "code",
   "execution_count": 20,
   "metadata": {},
   "outputs": [
    {
     "data": {
      "text/plain": [
       "15"
      ]
     },
     "execution_count": 20,
     "metadata": {},
     "output_type": "execute_result"
    }
   ],
   "source": [
    "#eliminando IdVenta\n",
    "df_venta.drop(['IdVenta'],axis=1,inplace=True)\n",
    "#filas duplicadas\n",
    "df_venta.duplicated().sum()"
   ]
  },
  {
   "cell_type": "code",
   "execution_count": 28,
   "metadata": {},
   "outputs": [
    {
     "data": {
      "text/plain": [
       "46180"
      ]
     },
     "execution_count": 28,
     "metadata": {},
     "output_type": "execute_result"
    }
   ],
   "source": [
    "df_venta.shape[0]"
   ]
  },
  {
   "cell_type": "code",
   "execution_count": 29,
   "metadata": {},
   "outputs": [],
   "source": [
    "df_venta.drop_duplicates(inplace=True)"
   ]
  },
  {
   "cell_type": "code",
   "execution_count": 30,
   "metadata": {},
   "outputs": [
    {
     "data": {
      "text/plain": [
       "46165"
      ]
     },
     "execution_count": 30,
     "metadata": {},
     "output_type": "execute_result"
    }
   ],
   "source": [
    "df_venta.shape[0]"
   ]
  },
  {
   "cell_type": "markdown",
   "metadata": {},
   "source": [
    "## Detección de Outliers"
   ]
  },
  {
   "cell_type": "code",
   "execution_count": 149,
   "metadata": {},
   "outputs": [],
   "source": [
    "Q1 = df_venta['Precio'].quantile(.25)\n",
    "Q3 = df_venta['Precio'].quantile(.75)\n",
    "IQR = Q3 -Q1\n",
    "minimo = Q1 - 1.5 * IQR\n",
    "maximo = Q3 + 1.5 * IQR"
   ]
  },
  {
   "cell_type": "code",
   "execution_count": 150,
   "metadata": {},
   "outputs": [
    {
     "data": {
      "text/html": [
       "<div>\n",
       "<style scoped>\n",
       "    .dataframe tbody tr th:only-of-type {\n",
       "        vertical-align: middle;\n",
       "    }\n",
       "\n",
       "    .dataframe tbody tr th {\n",
       "        vertical-align: top;\n",
       "    }\n",
       "\n",
       "    .dataframe thead th {\n",
       "        text-align: right;\n",
       "    }\n",
       "</style>\n",
       "<table border=\"1\" class=\"dataframe\">\n",
       "  <thead>\n",
       "    <tr style=\"text-align: right;\">\n",
       "      <th></th>\n",
       "      <th>Fecha</th>\n",
       "      <th>Fecha_Entrega</th>\n",
       "      <th>IdCanal</th>\n",
       "      <th>IdCliente</th>\n",
       "      <th>IdSucursal</th>\n",
       "      <th>IdEmpleado</th>\n",
       "      <th>IdProducto</th>\n",
       "      <th>Precio</th>\n",
       "      <th>Cantidad</th>\n",
       "    </tr>\n",
       "  </thead>\n",
       "  <tbody>\n",
       "    <tr>\n",
       "      <th>11</th>\n",
       "      <td>2015-02-17</td>\n",
       "      <td>2015-02-18</td>\n",
       "      <td>1</td>\n",
       "      <td>2866</td>\n",
       "      <td>13</td>\n",
       "      <td>1674</td>\n",
       "      <td>42969</td>\n",
       "      <td>3839.0</td>\n",
       "      <td>2.0</td>\n",
       "    </tr>\n",
       "    <tr>\n",
       "      <th>20848</th>\n",
       "      <td>2016-03-07</td>\n",
       "      <td>2016-03-12</td>\n",
       "      <td>3</td>\n",
       "      <td>1855</td>\n",
       "      <td>10</td>\n",
       "      <td>2468</td>\n",
       "      <td>42969</td>\n",
       "      <td>3839.0</td>\n",
       "      <td>3.0</td>\n",
       "    </tr>\n",
       "    <tr>\n",
       "      <th>20842</th>\n",
       "      <td>2015-09-15</td>\n",
       "      <td>2015-09-20</td>\n",
       "      <td>1</td>\n",
       "      <td>1463</td>\n",
       "      <td>10</td>\n",
       "      <td>2468</td>\n",
       "      <td>42969</td>\n",
       "      <td>3839.0</td>\n",
       "      <td>2.0</td>\n",
       "    </tr>\n",
       "    <tr>\n",
       "      <th>20662</th>\n",
       "      <td>2017-06-01</td>\n",
       "      <td>2017-06-04</td>\n",
       "      <td>3</td>\n",
       "      <td>2650</td>\n",
       "      <td>10</td>\n",
       "      <td>2468</td>\n",
       "      <td>42969</td>\n",
       "      <td>3839.0</td>\n",
       "      <td>1.0</td>\n",
       "    </tr>\n",
       "    <tr>\n",
       "      <th>20557</th>\n",
       "      <td>2016-12-27</td>\n",
       "      <td>2017-01-04</td>\n",
       "      <td>2</td>\n",
       "      <td>2017</td>\n",
       "      <td>10</td>\n",
       "      <td>2779</td>\n",
       "      <td>42969</td>\n",
       "      <td>3839.0</td>\n",
       "      <td>2.0</td>\n",
       "    </tr>\n",
       "    <tr>\n",
       "      <th>...</th>\n",
       "      <td>...</td>\n",
       "      <td>...</td>\n",
       "      <td>...</td>\n",
       "      <td>...</td>\n",
       "      <td>...</td>\n",
       "      <td>...</td>\n",
       "      <td>...</td>\n",
       "      <td>...</td>\n",
       "      <td>...</td>\n",
       "    </tr>\n",
       "    <tr>\n",
       "      <th>9143</th>\n",
       "      <td>2017-02-01</td>\n",
       "      <td>2017-02-08</td>\n",
       "      <td>1</td>\n",
       "      <td>1469</td>\n",
       "      <td>3</td>\n",
       "      <td>1012</td>\n",
       "      <td>42987</td>\n",
       "      <td>4560000.0</td>\n",
       "      <td>1.0</td>\n",
       "    </tr>\n",
       "    <tr>\n",
       "      <th>43564</th>\n",
       "      <td>2020-07-27</td>\n",
       "      <td>2020-08-01</td>\n",
       "      <td>2</td>\n",
       "      <td>1704</td>\n",
       "      <td>14</td>\n",
       "      <td>1531</td>\n",
       "      <td>42949</td>\n",
       "      <td>20150000.0</td>\n",
       "      <td>1.0</td>\n",
       "    </tr>\n",
       "    <tr>\n",
       "      <th>42053</th>\n",
       "      <td>2018-10-08</td>\n",
       "      <td>2018-10-11</td>\n",
       "      <td>2</td>\n",
       "      <td>636</td>\n",
       "      <td>31</td>\n",
       "      <td>3043</td>\n",
       "      <td>42937</td>\n",
       "      <td>24580000.0</td>\n",
       "      <td>3.0</td>\n",
       "    </tr>\n",
       "    <tr>\n",
       "      <th>20904</th>\n",
       "      <td>2015-07-15</td>\n",
       "      <td>2015-07-16</td>\n",
       "      <td>3</td>\n",
       "      <td>144</td>\n",
       "      <td>10</td>\n",
       "      <td>2351</td>\n",
       "      <td>42811</td>\n",
       "      <td>25599200.0</td>\n",
       "      <td>2.0</td>\n",
       "    </tr>\n",
       "    <tr>\n",
       "      <th>16465</th>\n",
       "      <td>2020-01-20</td>\n",
       "      <td>2020-01-24</td>\n",
       "      <td>3</td>\n",
       "      <td>2754</td>\n",
       "      <td>7</td>\n",
       "      <td>1966</td>\n",
       "      <td>42782</td>\n",
       "      <td>33739200.0</td>\n",
       "      <td>1.0</td>\n",
       "    </tr>\n",
       "  </tbody>\n",
       "</table>\n",
       "<p>2476 rows × 9 columns</p>\n",
       "</div>"
      ],
      "text/plain": [
       "            Fecha Fecha_Entrega  IdCanal  IdCliente  IdSucursal  IdEmpleado  \\\n",
       "11     2015-02-17    2015-02-18        1       2866          13        1674   \n",
       "20848  2016-03-07    2016-03-12        3       1855          10        2468   \n",
       "20842  2015-09-15    2015-09-20        1       1463          10        2468   \n",
       "20662  2017-06-01    2017-06-04        3       2650          10        2468   \n",
       "20557  2016-12-27    2017-01-04        2       2017          10        2779   \n",
       "...           ...           ...      ...        ...         ...         ...   \n",
       "9143   2017-02-01    2017-02-08        1       1469           3        1012   \n",
       "43564  2020-07-27    2020-08-01        2       1704          14        1531   \n",
       "42053  2018-10-08    2018-10-11        2        636          31        3043   \n",
       "20904  2015-07-15    2015-07-16        3        144          10        2351   \n",
       "16465  2020-01-20    2020-01-24        3       2754           7        1966   \n",
       "\n",
       "       IdProducto      Precio  Cantidad  \n",
       "11          42969      3839.0       2.0  \n",
       "20848       42969      3839.0       3.0  \n",
       "20842       42969      3839.0       2.0  \n",
       "20662       42969      3839.0       1.0  \n",
       "20557       42969      3839.0       2.0  \n",
       "...           ...         ...       ...  \n",
       "9143        42987   4560000.0       1.0  \n",
       "43564       42949  20150000.0       1.0  \n",
       "42053       42937  24580000.0       3.0  \n",
       "20904       42811  25599200.0       2.0  \n",
       "16465       42782  33739200.0       1.0  \n",
       "\n",
       "[2476 rows x 9 columns]"
      ]
     },
     "execution_count": 150,
     "metadata": {},
     "output_type": "execute_result"
    }
   ],
   "source": [
    "ubicacion_outliers = (df_venta.Precio < minimo) | (df_venta.Precio > maximo)\n",
    "df_venta[ubicacion_outliers].sort_values('Precio')"
   ]
  },
  {
   "cell_type": "code",
   "execution_count": 153,
   "metadata": {},
   "outputs": [],
   "source": [
    "df_id = df_venta[df_venta.IdProducto == 42969]\n",
    "Q1 = df_id['Precio'].quantile(.25)\n",
    "Q3 = df_id['Precio'].quantile(.75)\n",
    "IQR = Q3 -Q1\n",
    "minimo = Q1 - 1.5 * IQR\n",
    "maximo = Q3 + 1.5 * IQR"
   ]
  },
  {
   "cell_type": "code",
   "execution_count": 156,
   "metadata": {},
   "outputs": [
    {
     "data": {
      "text/html": [
       "<div>\n",
       "<style scoped>\n",
       "    .dataframe tbody tr th:only-of-type {\n",
       "        vertical-align: middle;\n",
       "    }\n",
       "\n",
       "    .dataframe tbody tr th {\n",
       "        vertical-align: top;\n",
       "    }\n",
       "\n",
       "    .dataframe thead th {\n",
       "        text-align: right;\n",
       "    }\n",
       "</style>\n",
       "<table border=\"1\" class=\"dataframe\">\n",
       "  <thead>\n",
       "    <tr style=\"text-align: right;\">\n",
       "      <th></th>\n",
       "      <th>Fecha</th>\n",
       "      <th>Fecha_Entrega</th>\n",
       "      <th>IdCanal</th>\n",
       "      <th>IdCliente</th>\n",
       "      <th>IdSucursal</th>\n",
       "      <th>IdEmpleado</th>\n",
       "      <th>IdProducto</th>\n",
       "      <th>Precio</th>\n",
       "      <th>Cantidad</th>\n",
       "    </tr>\n",
       "  </thead>\n",
       "  <tbody>\n",
       "    <tr>\n",
       "      <th>5238</th>\n",
       "      <td>2020-03-31</td>\n",
       "      <td>2020-04-05</td>\n",
       "      <td>2</td>\n",
       "      <td>3402</td>\n",
       "      <td>2</td>\n",
       "      <td>1676</td>\n",
       "      <td>42969</td>\n",
       "      <td>383900.0</td>\n",
       "      <td>2.0</td>\n",
       "    </tr>\n",
       "    <tr>\n",
       "      <th>11672</th>\n",
       "      <td>2018-11-23</td>\n",
       "      <td>2018-11-27</td>\n",
       "      <td>1</td>\n",
       "      <td>1991</td>\n",
       "      <td>5</td>\n",
       "      <td>1572</td>\n",
       "      <td>42969</td>\n",
       "      <td>383900.0</td>\n",
       "      <td>1.0</td>\n",
       "    </tr>\n",
       "    <tr>\n",
       "      <th>29812</th>\n",
       "      <td>2016-11-25</td>\n",
       "      <td>2016-11-30</td>\n",
       "      <td>2</td>\n",
       "      <td>24</td>\n",
       "      <td>21</td>\n",
       "      <td>3766</td>\n",
       "      <td>42969</td>\n",
       "      <td>383900.0</td>\n",
       "      <td>2.0</td>\n",
       "    </tr>\n",
       "    <tr>\n",
       "      <th>34871</th>\n",
       "      <td>2019-07-22</td>\n",
       "      <td>2019-07-30</td>\n",
       "      <td>2</td>\n",
       "      <td>2884</td>\n",
       "      <td>25</td>\n",
       "      <td>3916</td>\n",
       "      <td>42969</td>\n",
       "      <td>383900.0</td>\n",
       "      <td>3.0</td>\n",
       "    </tr>\n",
       "  </tbody>\n",
       "</table>\n",
       "</div>"
      ],
      "text/plain": [
       "            Fecha Fecha_Entrega  IdCanal  IdCliente  IdSucursal  IdEmpleado  \\\n",
       "5238   2020-03-31    2020-04-05        2       3402           2        1676   \n",
       "11672  2018-11-23    2018-11-27        1       1991           5        1572   \n",
       "29812  2016-11-25    2016-11-30        2         24          21        3766   \n",
       "34871  2019-07-22    2019-07-30        2       2884          25        3916   \n",
       "\n",
       "       IdProducto    Precio  Cantidad  \n",
       "5238        42969  383900.0       2.0  \n",
       "11672       42969  383900.0       1.0  \n",
       "29812       42969  383900.0       2.0  \n",
       "34871       42969  383900.0       3.0  "
      ]
     },
     "execution_count": 156,
     "metadata": {},
     "output_type": "execute_result"
    }
   ],
   "source": [
    "ubicacion_outliers = (df_id.Precio < minimo) | (df_id.Precio > maximo)\n",
    "df_id[ubicacion_outliers]"
   ]
  },
  {
   "cell_type": "code",
   "execution_count": 157,
   "metadata": {},
   "outputs": [
    {
     "data": {
      "text/plain": [
       "3766.1075949367087"
      ]
     },
     "execution_count": 157,
     "metadata": {},
     "output_type": "execute_result"
    }
   ],
   "source": [
    "#calculamos la media, descartando los outliers\n",
    "outlier = list(df_id[ubicacion_outliers].Precio)\n",
    "media = (df_id.Precio.sum() - sum(outlier)) / (len(df_id) - len(outlier))\n",
    "media"
   ]
  },
  {
   "cell_type": "markdown",
   "metadata": {},
   "source": [
    "proceso de busqueda de unión df_venta y ubicación_outliers ..."
   ]
  },
  {
   "cell_type": "code",
   "execution_count": 159,
   "metadata": {},
   "outputs": [
    {
     "data": {
      "text/plain": [
       "[(26,), (41,), (110,), (118,)]"
      ]
     },
     "execution_count": 159,
     "metadata": {},
     "output_type": "execute_result"
    }
   ],
   "source": [
    "#desempacantdo mi variable ubicación outliers\n",
    "list(zip(*np.where(ubicacion_outliers)))"
   ]
  },
  {
   "cell_type": "code",
   "execution_count": 160,
   "metadata": {},
   "outputs": [
    {
     "data": {
      "text/plain": [
       "[26, 41, 110, 118]"
      ]
     },
     "execution_count": 160,
     "metadata": {},
     "output_type": "execute_result"
    }
   ],
   "source": [
    "#desempaquetando los indices a imputar\n",
    "outlier = []\n",
    "for i in list(zip(*np.where(ubicacion_outliers))):\n",
    "    ii = i[0]\n",
    "    outlier.append(ii)\n",
    "outlier"
   ]
  },
  {
   "cell_type": "markdown",
   "metadata": {},
   "source": [
    "no coinciden con los indices que deseo imputar...pero esto me da una idea..."
   ]
  },
  {
   "cell_type": "code",
   "execution_count": 148,
   "metadata": {},
   "outputs": [
    {
     "data": {
      "text/html": [
       "<div>\n",
       "<style scoped>\n",
       "    .dataframe tbody tr th:only-of-type {\n",
       "        vertical-align: middle;\n",
       "    }\n",
       "\n",
       "    .dataframe tbody tr th {\n",
       "        vertical-align: top;\n",
       "    }\n",
       "\n",
       "    .dataframe thead th {\n",
       "        text-align: right;\n",
       "    }\n",
       "</style>\n",
       "<table border=\"1\" class=\"dataframe\">\n",
       "  <thead>\n",
       "    <tr style=\"text-align: right;\">\n",
       "      <th></th>\n",
       "      <th>Fecha</th>\n",
       "      <th>Fecha_Entrega</th>\n",
       "      <th>IdCanal</th>\n",
       "      <th>IdCliente</th>\n",
       "      <th>IdSucursal</th>\n",
       "      <th>IdEmpleado</th>\n",
       "      <th>IdProducto</th>\n",
       "      <th>Precio</th>\n",
       "      <th>Cantidad</th>\n",
       "    </tr>\n",
       "  </thead>\n",
       "  <tbody>\n",
       "    <tr>\n",
       "      <th>5238</th>\n",
       "      <td>2020-03-31</td>\n",
       "      <td>2020-04-05</td>\n",
       "      <td>2</td>\n",
       "      <td>3402</td>\n",
       "      <td>2</td>\n",
       "      <td>1676</td>\n",
       "      <td>42969</td>\n",
       "      <td>383900.0</td>\n",
       "      <td>2.0</td>\n",
       "    </tr>\n",
       "    <tr>\n",
       "      <th>11672</th>\n",
       "      <td>2018-11-23</td>\n",
       "      <td>2018-11-27</td>\n",
       "      <td>1</td>\n",
       "      <td>1991</td>\n",
       "      <td>5</td>\n",
       "      <td>1572</td>\n",
       "      <td>42969</td>\n",
       "      <td>383900.0</td>\n",
       "      <td>1.0</td>\n",
       "    </tr>\n",
       "    <tr>\n",
       "      <th>29812</th>\n",
       "      <td>2016-11-25</td>\n",
       "      <td>2016-11-30</td>\n",
       "      <td>2</td>\n",
       "      <td>24</td>\n",
       "      <td>21</td>\n",
       "      <td>3766</td>\n",
       "      <td>42969</td>\n",
       "      <td>383900.0</td>\n",
       "      <td>2.0</td>\n",
       "    </tr>\n",
       "    <tr>\n",
       "      <th>34871</th>\n",
       "      <td>2019-07-22</td>\n",
       "      <td>2019-07-30</td>\n",
       "      <td>2</td>\n",
       "      <td>2884</td>\n",
       "      <td>25</td>\n",
       "      <td>3916</td>\n",
       "      <td>42969</td>\n",
       "      <td>383900.0</td>\n",
       "      <td>3.0</td>\n",
       "    </tr>\n",
       "  </tbody>\n",
       "</table>\n",
       "</div>"
      ],
      "text/plain": [
       "            Fecha Fecha_Entrega  IdCanal  IdCliente  IdSucursal  IdEmpleado  \\\n",
       "5238   2020-03-31    2020-04-05        2       3402           2        1676   \n",
       "11672  2018-11-23    2018-11-27        1       1991           5        1572   \n",
       "29812  2016-11-25    2016-11-30        2         24          21        3766   \n",
       "34871  2019-07-22    2019-07-30        2       2884          25        3916   \n",
       "\n",
       "       IdProducto    Precio  Cantidad  \n",
       "5238        42969  383900.0       2.0  \n",
       "11672       42969  383900.0       1.0  \n",
       "29812       42969  383900.0       2.0  \n",
       "34871       42969  383900.0       3.0  "
      ]
     },
     "execution_count": 148,
     "metadata": {},
     "output_type": "execute_result"
    }
   ],
   "source": [
    "df_venta.loc[list(df_id[ubicacion_outliers].index)]"
   ]
  },
  {
   "cell_type": "markdown",
   "metadata": {},
   "source": [
    "ahora ya podemos reemplazar los valores atipicos por la media en el dataframe df_venta !!!"
   ]
  },
  {
   "cell_type": "code",
   "execution_count": 161,
   "metadata": {},
   "outputs": [],
   "source": [
    "#reemplazando valores atipicos en el dataframe principal\n",
    "df_venta.loc[list(df_id[ubicacion_outliers].index)] = round(media, 2)"
   ]
  },
  {
   "cell_type": "code",
   "execution_count": 172,
   "metadata": {},
   "outputs": [
    {
     "data": {
      "text/html": [
       "<div>\n",
       "<style scoped>\n",
       "    .dataframe tbody tr th:only-of-type {\n",
       "        vertical-align: middle;\n",
       "    }\n",
       "\n",
       "    .dataframe tbody tr th {\n",
       "        vertical-align: top;\n",
       "    }\n",
       "\n",
       "    .dataframe thead th {\n",
       "        text-align: right;\n",
       "    }\n",
       "</style>\n",
       "<table border=\"1\" class=\"dataframe\">\n",
       "  <thead>\n",
       "    <tr style=\"text-align: right;\">\n",
       "      <th></th>\n",
       "      <th>Fecha</th>\n",
       "      <th>Fecha_Entrega</th>\n",
       "      <th>IdCanal</th>\n",
       "      <th>IdCliente</th>\n",
       "      <th>IdSucursal</th>\n",
       "      <th>IdEmpleado</th>\n",
       "      <th>IdProducto</th>\n",
       "      <th>Precio</th>\n",
       "      <th>Cantidad</th>\n",
       "    </tr>\n",
       "  </thead>\n",
       "  <tbody>\n",
       "    <tr>\n",
       "      <th>5238</th>\n",
       "      <td>3766.11</td>\n",
       "      <td>3766.11</td>\n",
       "      <td>3766.11</td>\n",
       "      <td>3766.11</td>\n",
       "      <td>3766.11</td>\n",
       "      <td>3766.11</td>\n",
       "      <td>3766.11</td>\n",
       "      <td>3766.11</td>\n",
       "      <td>3766.11</td>\n",
       "    </tr>\n",
       "  </tbody>\n",
       "</table>\n",
       "</div>"
      ],
      "text/plain": [
       "        Fecha Fecha_Entrega  IdCanal  IdCliente  IdSucursal  IdEmpleado  \\\n",
       "5238  3766.11       3766.11  3766.11    3766.11     3766.11     3766.11   \n",
       "\n",
       "      IdProducto   Precio  Cantidad  \n",
       "5238     3766.11  3766.11   3766.11  "
      ]
     },
     "execution_count": 172,
     "metadata": {},
     "output_type": "execute_result"
    }
   ],
   "source": [
    "df_venta.loc[df_venta.index == 5238]"
   ]
  },
  {
   "cell_type": "markdown",
   "metadata": {},
   "source": [
    "Verificamos si los outliers fueron reemplazados"
   ]
  },
  {
   "cell_type": "code",
   "execution_count": 175,
   "metadata": {},
   "outputs": [
    {
     "data": {
      "text/html": [
       "<div>\n",
       "<style scoped>\n",
       "    .dataframe tbody tr th:only-of-type {\n",
       "        vertical-align: middle;\n",
       "    }\n",
       "\n",
       "    .dataframe tbody tr th {\n",
       "        vertical-align: top;\n",
       "    }\n",
       "\n",
       "    .dataframe thead th {\n",
       "        text-align: right;\n",
       "    }\n",
       "</style>\n",
       "<table border=\"1\" class=\"dataframe\">\n",
       "  <thead>\n",
       "    <tr style=\"text-align: right;\">\n",
       "      <th></th>\n",
       "      <th>Fecha</th>\n",
       "      <th>Fecha_Entrega</th>\n",
       "      <th>IdCanal</th>\n",
       "      <th>IdCliente</th>\n",
       "      <th>IdSucursal</th>\n",
       "      <th>IdEmpleado</th>\n",
       "      <th>IdProducto</th>\n",
       "      <th>Precio</th>\n",
       "      <th>Cantidad</th>\n",
       "    </tr>\n",
       "  </thead>\n",
       "  <tbody>\n",
       "  </tbody>\n",
       "</table>\n",
       "</div>"
      ],
      "text/plain": [
       "Empty DataFrame\n",
       "Columns: [Fecha, Fecha_Entrega, IdCanal, IdCliente, IdSucursal, IdEmpleado, IdProducto, Precio, Cantidad]\n",
       "Index: []"
      ]
     },
     "execution_count": 175,
     "metadata": {},
     "output_type": "execute_result"
    }
   ],
   "source": [
    "df_id = df_venta[df_venta.IdProducto == 42969]\n",
    "Q1 = df_id['Precio'].quantile(.25)\n",
    "Q3 = df_id['Precio'].quantile(.75)\n",
    "IQR = Q3 -Q1\n",
    "minimo = Q1 - 1.5 * IQR\n",
    "maximo = Q3 + 1.5 * IQR\n",
    "\n",
    "ubicacion_outliers = (df_id.Precio < minimo) | (df_id.Precio > maximo)\n",
    "df_id[ubicacion_outliers]"
   ]
  },
  {
   "cell_type": "markdown",
   "metadata": {},
   "source": [
    "## Detección de Valores Nulos"
   ]
  },
  {
   "cell_type": "code",
   "execution_count": 177,
   "metadata": {},
   "outputs": [],
   "source": [
    "#capturando los valores nulos por columna\n",
    "def valor_nulo(e):\n",
    "    diccionario = {}\n",
    "    for column in e.columns:\n",
    "        val_nul = e[column].isna().sum()\n",
    "        diccionario[column] = int(val_nul)\n",
    "\n",
    "    return diccionario  "
   ]
  },
  {
   "cell_type": "code",
   "execution_count": 178,
   "metadata": {},
   "outputs": [
    {
     "data": {
      "text/plain": [
       "[['Precio', 920], ['Cantidad', 884]]"
      ]
     },
     "execution_count": 178,
     "metadata": {},
     "output_type": "execute_result"
    }
   ],
   "source": [
    "nulo = valor_nulo(df_venta)\n",
    "nulo = [[key, nulo[key]] for key in nulo.keys() if nulo[key] > 0]\n",
    "nulo"
   ]
  },
  {
   "cell_type": "markdown",
   "metadata": {},
   "source": [
    "En conclusión, podemos observar que la estructura es similiar al archivo Compra.csv , con lo cual trataremos estas dos tablas de manera similiar al transformar sus datos."
   ]
  }
 ],
 "metadata": {
  "kernelspec": {
   "display_name": "Python 3.10.4 64-bit",
   "language": "python",
   "name": "python3"
  },
  "language_info": {
   "codemirror_mode": {
    "name": "ipython",
    "version": 3
   },
   "file_extension": ".py",
   "mimetype": "text/x-python",
   "name": "python",
   "nbconvert_exporter": "python",
   "pygments_lexer": "ipython3",
   "version": "3.10.4"
  },
  "orig_nbformat": 4,
  "vscode": {
   "interpreter": {
    "hash": "369f2c481f4da34e4445cda3fffd2e751bd1c4d706f27375911949ba6bb62e1c"
   }
  }
 },
 "nbformat": 4,
 "nbformat_minor": 2
}
