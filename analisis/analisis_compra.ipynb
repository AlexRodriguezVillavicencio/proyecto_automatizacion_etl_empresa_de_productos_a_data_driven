{
 "cells": [
  {
   "cell_type": "code",
   "execution_count": 15,
   "metadata": {},
   "outputs": [],
   "source": [
    "import pandas as pd\n",
    "import os \n",
    "import numpy as np\n",
    "\n",
    "ruta = os.path.abspath('../Datasets')"
   ]
  },
  {
   "cell_type": "code",
   "execution_count": 2,
   "metadata": {},
   "outputs": [],
   "source": [
    "df_compra = pd.read_csv(ruta + '/Compra.csv', sep=',', encoding='utf-8')"
   ]
  },
  {
   "cell_type": "code",
   "execution_count": 3,
   "metadata": {},
   "outputs": [
    {
     "data": {
      "text/plain": [
       "0"
      ]
     },
     "execution_count": 3,
     "metadata": {},
     "output_type": "execute_result"
    }
   ],
   "source": [
    "#eliminando IdCompra\n",
    "df_compra.drop(['IdCompra'],axis=1,inplace=True)\n",
    "#filas duplicadas\n",
    "df_compra.duplicated().sum()"
   ]
  },
  {
   "cell_type": "markdown",
   "metadata": {},
   "source": [
    "## Detección de Outliers"
   ]
  },
  {
   "cell_type": "code",
   "execution_count": 5,
   "metadata": {},
   "outputs": [],
   "source": [
    "Q1 = df_compra['Precio'].quantile(.25)\n",
    "Q3 = df_compra['Precio'].quantile(.75)\n",
    "IQR = Q3 -Q1\n",
    "minimo = Q1 - 1.5 * IQR\n",
    "maximo = Q3 + 1.5 * IQR"
   ]
  },
  {
   "cell_type": "code",
   "execution_count": 6,
   "metadata": {},
   "outputs": [
    {
     "data": {
      "text/html": [
       "<div>\n",
       "<style scoped>\n",
       "    .dataframe tbody tr th:only-of-type {\n",
       "        vertical-align: middle;\n",
       "    }\n",
       "\n",
       "    .dataframe tbody tr th {\n",
       "        vertical-align: top;\n",
       "    }\n",
       "\n",
       "    .dataframe thead th {\n",
       "        text-align: right;\n",
       "    }\n",
       "</style>\n",
       "<table border=\"1\" class=\"dataframe\">\n",
       "  <thead>\n",
       "    <tr style=\"text-align: right;\">\n",
       "      <th></th>\n",
       "      <th>Fecha</th>\n",
       "      <th>Fecha_Año</th>\n",
       "      <th>Fecha_Mes</th>\n",
       "      <th>Fecha_Periodo</th>\n",
       "      <th>IdProducto</th>\n",
       "      <th>Cantidad</th>\n",
       "      <th>Precio</th>\n",
       "      <th>IdProveedor</th>\n",
       "    </tr>\n",
       "  </thead>\n",
       "  <tbody>\n",
       "    <tr>\n",
       "      <th>580</th>\n",
       "      <td>4/24/2015</td>\n",
       "      <td>2015</td>\n",
       "      <td>4</td>\n",
       "      <td>201504</td>\n",
       "      <td>42782</td>\n",
       "      <td>10</td>\n",
       "      <td>2691.85</td>\n",
       "      <td>7</td>\n",
       "    </tr>\n",
       "    <tr>\n",
       "      <th>5833</th>\n",
       "      <td>4/27/2018</td>\n",
       "      <td>2018</td>\n",
       "      <td>4</td>\n",
       "      <td>201804</td>\n",
       "      <td>42936</td>\n",
       "      <td>3</td>\n",
       "      <td>2692.87</td>\n",
       "      <td>14</td>\n",
       "    </tr>\n",
       "    <tr>\n",
       "      <th>8607</th>\n",
       "      <td>10/25/2019</td>\n",
       "      <td>2019</td>\n",
       "      <td>1</td>\n",
       "      <td>201901</td>\n",
       "      <td>42782</td>\n",
       "      <td>22</td>\n",
       "      <td>2693.43</td>\n",
       "      <td>2</td>\n",
       "    </tr>\n",
       "    <tr>\n",
       "      <th>10422</th>\n",
       "      <td>7/31/2020</td>\n",
       "      <td>2020</td>\n",
       "      <td>7</td>\n",
       "      <td>202007</td>\n",
       "      <td>42780</td>\n",
       "      <td>6</td>\n",
       "      <td>2694.01</td>\n",
       "      <td>6</td>\n",
       "    </tr>\n",
       "    <tr>\n",
       "      <th>730</th>\n",
       "      <td>5/29/2015</td>\n",
       "      <td>2015</td>\n",
       "      <td>5</td>\n",
       "      <td>201505</td>\n",
       "      <td>42780</td>\n",
       "      <td>12</td>\n",
       "      <td>2694.41</td>\n",
       "      <td>6</td>\n",
       "    </tr>\n",
       "    <tr>\n",
       "      <th>...</th>\n",
       "      <td>...</td>\n",
       "      <td>...</td>\n",
       "      <td>...</td>\n",
       "      <td>...</td>\n",
       "      <td>...</td>\n",
       "      <td>...</td>\n",
       "      <td>...</td>\n",
       "      <td>...</td>\n",
       "    </tr>\n",
       "    <tr>\n",
       "      <th>6805</th>\n",
       "      <td>10/26/2018</td>\n",
       "      <td>2018</td>\n",
       "      <td>1</td>\n",
       "      <td>201801</td>\n",
       "      <td>42773</td>\n",
       "      <td>2</td>\n",
       "      <td>577223.00</td>\n",
       "      <td>13</td>\n",
       "    </tr>\n",
       "    <tr>\n",
       "      <th>7414</th>\n",
       "      <td>2/22/2019</td>\n",
       "      <td>2019</td>\n",
       "      <td>2</td>\n",
       "      <td>201902</td>\n",
       "      <td>42773</td>\n",
       "      <td>13</td>\n",
       "      <td>580886.00</td>\n",
       "      <td>6</td>\n",
       "    </tr>\n",
       "    <tr>\n",
       "      <th>8763</th>\n",
       "      <td>11/29/2019</td>\n",
       "      <td>2019</td>\n",
       "      <td>1</td>\n",
       "      <td>201901</td>\n",
       "      <td>42779</td>\n",
       "      <td>17</td>\n",
       "      <td>688826.00</td>\n",
       "      <td>10</td>\n",
       "    </tr>\n",
       "    <tr>\n",
       "      <th>11272</th>\n",
       "      <td>11/27/2020</td>\n",
       "      <td>2020</td>\n",
       "      <td>11</td>\n",
       "      <td>202011</td>\n",
       "      <td>42779</td>\n",
       "      <td>7</td>\n",
       "      <td>707004.00</td>\n",
       "      <td>8</td>\n",
       "    </tr>\n",
       "    <tr>\n",
       "      <th>7613</th>\n",
       "      <td>4/26/2019</td>\n",
       "      <td>2019</td>\n",
       "      <td>4</td>\n",
       "      <td>201904</td>\n",
       "      <td>42917</td>\n",
       "      <td>33</td>\n",
       "      <td>10445800.00</td>\n",
       "      <td>11</td>\n",
       "    </tr>\n",
       "  </tbody>\n",
       "</table>\n",
       "<p>599 rows × 8 columns</p>\n",
       "</div>"
      ],
      "text/plain": [
       "            Fecha  Fecha_Año  Fecha_Mes  Fecha_Periodo  IdProducto  Cantidad  \\\n",
       "580     4/24/2015       2015          4         201504       42782        10   \n",
       "5833    4/27/2018       2018          4         201804       42936         3   \n",
       "8607   10/25/2019       2019          1         201901       42782        22   \n",
       "10422   7/31/2020       2020          7         202007       42780         6   \n",
       "730     5/29/2015       2015          5         201505       42780        12   \n",
       "...           ...        ...        ...            ...         ...       ...   \n",
       "6805   10/26/2018       2018          1         201801       42773         2   \n",
       "7414    2/22/2019       2019          2         201902       42773        13   \n",
       "8763   11/29/2019       2019          1         201901       42779        17   \n",
       "11272  11/27/2020       2020         11         202011       42779         7   \n",
       "7613    4/26/2019       2019          4         201904       42917        33   \n",
       "\n",
       "            Precio  IdProveedor  \n",
       "580        2691.85            7  \n",
       "5833       2692.87           14  \n",
       "8607       2693.43            2  \n",
       "10422      2694.01            6  \n",
       "730        2694.41            6  \n",
       "...            ...          ...  \n",
       "6805     577223.00           13  \n",
       "7414     580886.00            6  \n",
       "8763     688826.00           10  \n",
       "11272    707004.00            8  \n",
       "7613   10445800.00           11  \n",
       "\n",
       "[599 rows x 8 columns]"
      ]
     },
     "execution_count": 6,
     "metadata": {},
     "output_type": "execute_result"
    }
   ],
   "source": [
    "ubicacion_outliers = (df_compra.Precio < minimo) | (df_compra.Precio > maximo)\n",
    "df_compra[ubicacion_outliers].sort_values('Precio')"
   ]
  },
  {
   "cell_type": "code",
   "execution_count": 7,
   "metadata": {},
   "outputs": [
    {
     "data": {
      "text/html": [
       "<div>\n",
       "<style scoped>\n",
       "    .dataframe tbody tr th:only-of-type {\n",
       "        vertical-align: middle;\n",
       "    }\n",
       "\n",
       "    .dataframe tbody tr th {\n",
       "        vertical-align: top;\n",
       "    }\n",
       "\n",
       "    .dataframe thead th {\n",
       "        text-align: right;\n",
       "    }\n",
       "</style>\n",
       "<table border=\"1\" class=\"dataframe\">\n",
       "  <thead>\n",
       "    <tr style=\"text-align: right;\">\n",
       "      <th></th>\n",
       "      <th>Fecha</th>\n",
       "      <th>Fecha_Año</th>\n",
       "      <th>Fecha_Mes</th>\n",
       "      <th>Fecha_Periodo</th>\n",
       "      <th>IdProducto</th>\n",
       "      <th>Cantidad</th>\n",
       "      <th>Precio</th>\n",
       "      <th>IdProveedor</th>\n",
       "    </tr>\n",
       "  </thead>\n",
       "  <tbody>\n",
       "    <tr>\n",
       "      <th>130</th>\n",
       "      <td>1/30/2015</td>\n",
       "      <td>2015</td>\n",
       "      <td>1</td>\n",
       "      <td>201501</td>\n",
       "      <td>42782</td>\n",
       "      <td>6</td>\n",
       "      <td>2678.34</td>\n",
       "      <td>1</td>\n",
       "    </tr>\n",
       "    <tr>\n",
       "      <th>580</th>\n",
       "      <td>4/24/2015</td>\n",
       "      <td>2015</td>\n",
       "      <td>4</td>\n",
       "      <td>201504</td>\n",
       "      <td>42782</td>\n",
       "      <td>10</td>\n",
       "      <td>2691.85</td>\n",
       "      <td>7</td>\n",
       "    </tr>\n",
       "    <tr>\n",
       "      <th>732</th>\n",
       "      <td>5/29/2015</td>\n",
       "      <td>2015</td>\n",
       "      <td>5</td>\n",
       "      <td>201505</td>\n",
       "      <td>42782</td>\n",
       "      <td>3</td>\n",
       "      <td>2347.42</td>\n",
       "      <td>13</td>\n",
       "    </tr>\n",
       "    <tr>\n",
       "      <th>878</th>\n",
       "      <td>6/26/2015</td>\n",
       "      <td>2015</td>\n",
       "      <td>6</td>\n",
       "      <td>201506</td>\n",
       "      <td>42782</td>\n",
       "      <td>4</td>\n",
       "      <td>2422.17</td>\n",
       "      <td>3</td>\n",
       "    </tr>\n",
       "    <tr>\n",
       "      <th>1186</th>\n",
       "      <td>8/28/2015</td>\n",
       "      <td>2015</td>\n",
       "      <td>8</td>\n",
       "      <td>201508</td>\n",
       "      <td>42782</td>\n",
       "      <td>4</td>\n",
       "      <td>2031.08</td>\n",
       "      <td>13</td>\n",
       "    </tr>\n",
       "  </tbody>\n",
       "</table>\n",
       "</div>"
      ],
      "text/plain": [
       "          Fecha  Fecha_Año  Fecha_Mes  Fecha_Periodo  IdProducto  Cantidad  \\\n",
       "130   1/30/2015       2015          1         201501       42782         6   \n",
       "580   4/24/2015       2015          4         201504       42782        10   \n",
       "732   5/29/2015       2015          5         201505       42782         3   \n",
       "878   6/26/2015       2015          6         201506       42782         4   \n",
       "1186  8/28/2015       2015          8         201508       42782         4   \n",
       "\n",
       "       Precio  IdProveedor  \n",
       "130   2678.34            1  \n",
       "580   2691.85            7  \n",
       "732   2347.42           13  \n",
       "878   2422.17            3  \n",
       "1186  2031.08           13  "
      ]
     },
     "execution_count": 7,
     "metadata": {},
     "output_type": "execute_result"
    }
   ],
   "source": [
    "#analizando uno de los posibles outliers\n",
    "df_compra[df_compra.IdProducto == 42782].head()"
   ]
  },
  {
   "cell_type": "markdown",
   "metadata": {},
   "source": [
    "Podemos observar que el supuesto valor que es un outlier para la columna Precio, es un valor normal para el tipo de producto: 42782.\n",
    "Lo que nos hace concluir que la estrategia que estamos usando para detectar outliers no es la adecuada.\n",
    "Ya que la empresa tiene diferentes tipos de productos, buscaremos los valores atipicos en función del IdProducto."
   ]
  },
  {
   "cell_type": "code",
   "execution_count": 8,
   "metadata": {},
   "outputs": [
    {
     "data": {
      "text/plain": [
       "283"
      ]
     },
     "execution_count": 8,
     "metadata": {},
     "output_type": "execute_result"
    }
   ],
   "source": [
    "#numero de diferentes productos existentes en la cartera de la empresa\n",
    "df_compra.IdProducto.nunique()"
   ]
  },
  {
   "cell_type": "code",
   "execution_count": 9,
   "metadata": {},
   "outputs": [],
   "source": [
    "#Escogemos un IdProducto: 42773 y calculamos el rango intercuantilico\n",
    "df_id = df_compra[df_compra.IdProducto == 42773]\n",
    "Q1 = df_id['Precio'].quantile(.25)\n",
    "Q3 = df_id['Precio'].quantile(.75)\n",
    "IQR = Q3 -Q1\n",
    "minimo = Q1 - 1.5 * IQR\n",
    "maximo = Q3 + 1.5 * IQR"
   ]
  },
  {
   "cell_type": "code",
   "execution_count": 10,
   "metadata": {},
   "outputs": [
    {
     "data": {
      "text/html": [
       "<div>\n",
       "<style scoped>\n",
       "    .dataframe tbody tr th:only-of-type {\n",
       "        vertical-align: middle;\n",
       "    }\n",
       "\n",
       "    .dataframe tbody tr th {\n",
       "        vertical-align: top;\n",
       "    }\n",
       "\n",
       "    .dataframe thead th {\n",
       "        text-align: right;\n",
       "    }\n",
       "</style>\n",
       "<table border=\"1\" class=\"dataframe\">\n",
       "  <thead>\n",
       "    <tr style=\"text-align: right;\">\n",
       "      <th></th>\n",
       "      <th>Fecha</th>\n",
       "      <th>Fecha_Año</th>\n",
       "      <th>Fecha_Mes</th>\n",
       "      <th>Fecha_Periodo</th>\n",
       "      <th>IdProducto</th>\n",
       "      <th>Cantidad</th>\n",
       "      <th>Precio</th>\n",
       "      <th>IdProveedor</th>\n",
       "    </tr>\n",
       "  </thead>\n",
       "  <tbody>\n",
       "    <tr>\n",
       "      <th>6805</th>\n",
       "      <td>10/26/2018</td>\n",
       "      <td>2018</td>\n",
       "      <td>1</td>\n",
       "      <td>201801</td>\n",
       "      <td>42773</td>\n",
       "      <td>2</td>\n",
       "      <td>577223.0</td>\n",
       "      <td>13</td>\n",
       "    </tr>\n",
       "    <tr>\n",
       "      <th>7414</th>\n",
       "      <td>2/22/2019</td>\n",
       "      <td>2019</td>\n",
       "      <td>2</td>\n",
       "      <td>201902</td>\n",
       "      <td>42773</td>\n",
       "      <td>13</td>\n",
       "      <td>580886.0</td>\n",
       "      <td>6</td>\n",
       "    </tr>\n",
       "  </tbody>\n",
       "</table>\n",
       "</div>"
      ],
      "text/plain": [
       "           Fecha  Fecha_Año  Fecha_Mes  Fecha_Periodo  IdProducto  Cantidad  \\\n",
       "6805  10/26/2018       2018          1         201801       42773         2   \n",
       "7414   2/22/2019       2019          2         201902       42773        13   \n",
       "\n",
       "        Precio  IdProveedor  \n",
       "6805  577223.0           13  \n",
       "7414  580886.0            6  "
      ]
     },
     "execution_count": 10,
     "metadata": {},
     "output_type": "execute_result"
    }
   ],
   "source": [
    "#capturamos las filas con outliers\n",
    "ubicacion_outliers = (df_id.Precio < minimo) | (df_id.Precio > maximo)\n",
    "df_id[ubicacion_outliers]"
   ]
  },
  {
   "cell_type": "code",
   "execution_count": 11,
   "metadata": {},
   "outputs": [
    {
     "data": {
      "text/plain": [
       "6102.406875000001"
      ]
     },
     "execution_count": 11,
     "metadata": {},
     "output_type": "execute_result"
    }
   ],
   "source": [
    "#calculamos la media, descartando los outliers\n",
    "outlier = list(df_id[ubicacion_outliers].Precio)\n",
    "media = (df_id.Precio.sum() - sum(outlier)) / (len(df_id) - len(outlier))\n",
    "media"
   ]
  },
  {
   "cell_type": "code",
   "execution_count": 12,
   "metadata": {},
   "outputs": [
    {
     "data": {
      "text/plain": [
       "3613.6468125671317"
      ]
     },
     "execution_count": 12,
     "metadata": {},
     "output_type": "execute_result"
    }
   ],
   "source": [
    "df_compra.Precio.mean()"
   ]
  },
  {
   "cell_type": "markdown",
   "metadata": {},
   "source": [
    "Podemos concluir que nuestro metodo de capturar los otliers por IdProducto es más certero.\n",
    "Donde para la imputación de outliers del IdProducto: 42773 usariamos el precio de : 6102.41\n",
    "y no el precio de : 3613.65\n",
    "\n",
    "Antes de imputar los outliers podemos tambien descartar de la media los valores nulos y así tener una media más precisa."
   ]
  },
  {
   "cell_type": "markdown",
   "metadata": {},
   "source": [
    "## Detección de Valores Nulos"
   ]
  },
  {
   "cell_type": "code",
   "execution_count": 13,
   "metadata": {},
   "outputs": [],
   "source": [
    "#capturando los valores nulos por columna\n",
    "def valor_nulo(e):\n",
    "    diccionario = {}\n",
    "    for column in e.columns:\n",
    "        val_nul = e[column].isna().sum()\n",
    "        diccionario[column] = int(val_nul)\n",
    "\n",
    "    return diccionario  "
   ]
  },
  {
   "cell_type": "code",
   "execution_count": 14,
   "metadata": {},
   "outputs": [
    {
     "data": {
      "text/plain": [
       "[['Precio', 367]]"
      ]
     },
     "execution_count": 14,
     "metadata": {},
     "output_type": "execute_result"
    }
   ],
   "source": [
    "nulo = valor_nulo(df_compra)\n",
    "nulo = [[key, nulo[key]] for key in nulo.keys() if nulo[key] > 0]\n",
    "nulo"
   ]
  },
  {
   "cell_type": "markdown",
   "metadata": {},
   "source": [
    "Vemos que solo existen valores nulos en la columna Precio. \n",
    "A continuación imputaremos esos valores nulos, considerando que el valor a llenar depende del IdProducto, a la vez este depende de variables como el proveedor elegido (IdProveedor), el año de la compra (Fecha_Año), la temporada del año o mes (Fecha_Mes)"
   ]
  },
  {
   "cell_type": "code",
   "execution_count": 16,
   "metadata": {},
   "outputs": [],
   "source": [
    "#imputación de valores faltantes de columna precio por columnas: IdProducto, IdProveedor, Fecha_Año\n",
    "for i in list(zip(*np.where(df_compra['Precio'].isna()))):\n",
    "    ii = i[0]\n",
    "    pr = tuple(df_compra.loc[ii,['IdProducto']])[0]\n",
    "    po = tuple(df_compra.loc[ii,['IdProveedor']])[0]\n",
    "    fa = tuple(df_compra.loc[ii,['Fecha_Año']])[0]\n",
    "    media =df_compra.loc[(df_compra['IdProducto'] == pr) & \n",
    "                    (df_compra['IdProveedor'] == po) & \n",
    "                    (df_compra['Fecha_Año'] == fa)]\n",
    "    df_compra.loc[ii, ['Precio']] = media['Precio'].mean()"
   ]
  },
  {
   "cell_type": "code",
   "execution_count": 17,
   "metadata": {},
   "outputs": [
    {
     "data": {
      "text/plain": [
       "[['Precio', 231]]"
      ]
     },
     "execution_count": 17,
     "metadata": {},
     "output_type": "execute_result"
    }
   ],
   "source": [
    "nulo = valor_nulo(df_compra)\n",
    "nulo = [[key, nulo[key]] for key in nulo.keys() if nulo[key] > 0]\n",
    "nulo"
   ]
  },
  {
   "cell_type": "markdown",
   "metadata": {},
   "source": [
    "Observamos  que el numero de nulos ah disminuido, elegiremos diferentes combinaciones de relación para ir llenando los valos que estén vacíos"
   ]
  },
  {
   "cell_type": "code",
   "execution_count": 18,
   "metadata": {},
   "outputs": [],
   "source": [
    "#imputación de valores faltantes de columna precio por columnas: IdProducto, Fecha_Mes, Fecha_Año\n",
    "for i in list(zip(*np.where(df_compra['Precio'].isna()))):\n",
    "    ii = i[0]\n",
    "    pr = tuple(df_compra.loc[ii,['IdProducto']])[0]\n",
    "    po = tuple(df_compra.loc[ii,['Fecha_Mes']])[0]\n",
    "    fa = tuple(df_compra.loc[ii,['Fecha_Año']])[0]\n",
    "    media =df_compra.loc[(df_compra['IdProducto'] == pr) & \n",
    "                    (df_compra['Fecha_Mes'] == po) & \n",
    "                    (df_compra['Fecha_Año'] == fa)]\n",
    "    df_compra.loc[ii, ['Precio']] = media['Precio'].mean()"
   ]
  },
  {
   "cell_type": "code",
   "execution_count": 19,
   "metadata": {},
   "outputs": [
    {
     "data": {
      "text/plain": [
       "[['Precio', 178]]"
      ]
     },
     "execution_count": 19,
     "metadata": {},
     "output_type": "execute_result"
    }
   ],
   "source": [
    "nulo = valor_nulo(df_compra)\n",
    "nulo = [[key, nulo[key]] for key in nulo.keys() if nulo[key] > 0]\n",
    "nulo"
   ]
  },
  {
   "cell_type": "code",
   "execution_count": 20,
   "metadata": {},
   "outputs": [],
   "source": [
    "#imputación de valores faltantes de columna precio por columnas: IdProducto, IdProveedor, Fecha_Año\n",
    "for i in list(zip(*np.where(df_compra['Precio'].isna()))):\n",
    "    ii = i[0]\n",
    "    pr = tuple(df_compra.loc[ii,['IdProducto']])[0]\n",
    "    po = tuple(df_compra.loc[ii,['IdProveedor']])[0]\n",
    "    media =df_compra.loc[(df_compra['IdProducto'] == pr) & \n",
    "                    (df_compra['IdProveedor'] == po)]\n",
    "    df_compra.loc[ii, ['Precio']] = media['Precio'].mean()"
   ]
  },
  {
   "cell_type": "code",
   "execution_count": 21,
   "metadata": {},
   "outputs": [
    {
     "data": {
      "text/plain": [
       "[['Precio', 16]]"
      ]
     },
     "execution_count": 21,
     "metadata": {},
     "output_type": "execute_result"
    }
   ],
   "source": [
    "nulo = valor_nulo(df_compra)\n",
    "nulo = [[key, nulo[key]] for key in nulo.keys() if nulo[key] > 0]\n",
    "nulo"
   ]
  },
  {
   "cell_type": "code",
   "execution_count": 22,
   "metadata": {},
   "outputs": [],
   "source": [
    "#imputación de valores faltantes de columna precio por columnas: IdProducto, Fecha_Año\n",
    "for i in list(zip(*np.where(df_compra['Precio'].isna()))):\n",
    "    ii = i[0]\n",
    "    pr = tuple(df_compra.loc[ii,['IdProducto']])[0]\n",
    "    po = tuple(df_compra.loc[ii,['Fecha_Año']])[0]\n",
    "    media =df_compra.loc[(df_compra['IdProducto'] == pr) & \n",
    "                    (df_compra['Fecha_Año'] == po)]\n",
    "    df_compra.loc[ii, ['Precio']] = media['Precio'].mean()"
   ]
  },
  {
   "cell_type": "code",
   "execution_count": 23,
   "metadata": {},
   "outputs": [
    {
     "data": {
      "text/plain": [
       "[]"
      ]
     },
     "execution_count": 23,
     "metadata": {},
     "output_type": "execute_result"
    }
   ],
   "source": [
    "nulo = valor_nulo(df_compra)\n",
    "nulo = [[key, nulo[key]] for key in nulo.keys() if nulo[key] > 0]\n",
    "nulo"
   ]
  },
  {
   "cell_type": "markdown",
   "metadata": {},
   "source": [
    "En conclusión, hemos imputado los valores nulos con diferentes niveles de relación con el Precio, de mayor a menor relación según el criterio que he visto más conveniente.\n",
    "\n",
    "Al momento de hacer la imputación, no he considerado que dentro de la media también se incluyen los outliers, generando valores sesgados. Para ello es recomendable primero imputar los outliers y luego los valores nulos."
   ]
  },
  {
   "cell_type": "code",
   "execution_count": 24,
   "metadata": {},
   "outputs": [
    {
     "data": {
      "text/html": [
       "<div>\n",
       "<style scoped>\n",
       "    .dataframe tbody tr th:only-of-type {\n",
       "        vertical-align: middle;\n",
       "    }\n",
       "\n",
       "    .dataframe tbody tr th {\n",
       "        vertical-align: top;\n",
       "    }\n",
       "\n",
       "    .dataframe thead th {\n",
       "        text-align: right;\n",
       "    }\n",
       "</style>\n",
       "<table border=\"1\" class=\"dataframe\">\n",
       "  <thead>\n",
       "    <tr style=\"text-align: right;\">\n",
       "      <th></th>\n",
       "      <th>Fecha</th>\n",
       "      <th>Fecha_Año</th>\n",
       "      <th>Fecha_Mes</th>\n",
       "      <th>Fecha_Periodo</th>\n",
       "      <th>IdProducto</th>\n",
       "      <th>Cantidad</th>\n",
       "      <th>Precio</th>\n",
       "      <th>IdProveedor</th>\n",
       "    </tr>\n",
       "  </thead>\n",
       "  <tbody>\n",
       "    <tr>\n",
       "      <th>0</th>\n",
       "      <td>1/30/2015</td>\n",
       "      <td>2015</td>\n",
       "      <td>1</td>\n",
       "      <td>201501</td>\n",
       "      <td>42832</td>\n",
       "      <td>13</td>\n",
       "      <td>560.51</td>\n",
       "      <td>12</td>\n",
       "    </tr>\n",
       "    <tr>\n",
       "      <th>1</th>\n",
       "      <td>1/30/2015</td>\n",
       "      <td>2015</td>\n",
       "      <td>1</td>\n",
       "      <td>201501</td>\n",
       "      <td>42833</td>\n",
       "      <td>11</td>\n",
       "      <td>497.58</td>\n",
       "      <td>7</td>\n",
       "    </tr>\n",
       "    <tr>\n",
       "      <th>2</th>\n",
       "      <td>1/30/2015</td>\n",
       "      <td>2015</td>\n",
       "      <td>1</td>\n",
       "      <td>201501</td>\n",
       "      <td>42834</td>\n",
       "      <td>1</td>\n",
       "      <td>588.50</td>\n",
       "      <td>6</td>\n",
       "    </tr>\n",
       "    <tr>\n",
       "      <th>3</th>\n",
       "      <td>1/30/2015</td>\n",
       "      <td>2015</td>\n",
       "      <td>1</td>\n",
       "      <td>201501</td>\n",
       "      <td>42835</td>\n",
       "      <td>9</td>\n",
       "      <td>567.66</td>\n",
       "      <td>14</td>\n",
       "    </tr>\n",
       "    <tr>\n",
       "      <th>4</th>\n",
       "      <td>1/30/2015</td>\n",
       "      <td>2015</td>\n",
       "      <td>1</td>\n",
       "      <td>201501</td>\n",
       "      <td>42839</td>\n",
       "      <td>14</td>\n",
       "      <td>231.31</td>\n",
       "      <td>2</td>\n",
       "    </tr>\n",
       "  </tbody>\n",
       "</table>\n",
       "</div>"
      ],
      "text/plain": [
       "       Fecha  Fecha_Año  Fecha_Mes  Fecha_Periodo  IdProducto  Cantidad  \\\n",
       "0  1/30/2015       2015          1         201501       42832        13   \n",
       "1  1/30/2015       2015          1         201501       42833        11   \n",
       "2  1/30/2015       2015          1         201501       42834         1   \n",
       "3  1/30/2015       2015          1         201501       42835         9   \n",
       "4  1/30/2015       2015          1         201501       42839        14   \n",
       "\n",
       "   Precio  IdProveedor  \n",
       "0  560.51           12  \n",
       "1  497.58            7  \n",
       "2  588.50            6  \n",
       "3  567.66           14  \n",
       "4  231.31            2  "
      ]
     },
     "execution_count": 24,
     "metadata": {},
     "output_type": "execute_result"
    }
   ],
   "source": [
    "df_compra.head()"
   ]
  },
  {
   "cell_type": "code",
   "execution_count": 25,
   "metadata": {},
   "outputs": [
    {
     "name": "stdout",
     "output_type": "stream",
     "text": [
      "<class 'pandas.core.frame.DataFrame'>\n",
      "RangeIndex: 11539 entries, 0 to 11538\n",
      "Data columns (total 8 columns):\n",
      " #   Column         Non-Null Count  Dtype  \n",
      "---  ------         --------------  -----  \n",
      " 0   Fecha          11539 non-null  object \n",
      " 1   Fecha_Año      11539 non-null  int64  \n",
      " 2   Fecha_Mes      11539 non-null  int64  \n",
      " 3   Fecha_Periodo  11539 non-null  int64  \n",
      " 4   IdProducto     11539 non-null  int64  \n",
      " 5   Cantidad       11539 non-null  int64  \n",
      " 6   Precio         11539 non-null  float64\n",
      " 7   IdProveedor    11539 non-null  int64  \n",
      "dtypes: float64(1), int64(6), object(1)\n",
      "memory usage: 721.3+ KB\n"
     ]
    }
   ],
   "source": [
    "df_compra.info()"
   ]
  },
  {
   "cell_type": "markdown",
   "metadata": {},
   "source": [
    "Para el resto de las columnas (Fecha, Fecha_Año, Fecha_Mes, Fecha_Periodo, IdProducto, IdProveedor), no se puede usar los metodos de imputación descritos arriba. Ya que su naturaleza es diferente.\n",
    "\n",
    "Usaremos entonces dichos metodos solo para la columna Precio y cantidad."
   ]
  }
 ],
 "metadata": {
  "kernelspec": {
   "display_name": "Python 3.10.4 64-bit",
   "language": "python",
   "name": "python3"
  },
  "language_info": {
   "codemirror_mode": {
    "name": "ipython",
    "version": 3
   },
   "file_extension": ".py",
   "mimetype": "text/x-python",
   "name": "python",
   "nbconvert_exporter": "python",
   "pygments_lexer": "ipython3",
   "version": "3.10.4"
  },
  "orig_nbformat": 4,
  "vscode": {
   "interpreter": {
    "hash": "369f2c481f4da34e4445cda3fffd2e751bd1c4d706f27375911949ba6bb62e1c"
   }
  }
 },
 "nbformat": 4,
 "nbformat_minor": 2
}
