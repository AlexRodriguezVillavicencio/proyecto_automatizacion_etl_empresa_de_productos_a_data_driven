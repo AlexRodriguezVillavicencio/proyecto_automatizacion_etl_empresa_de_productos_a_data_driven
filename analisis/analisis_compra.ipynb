{
 "cells": [
  {
   "cell_type": "code",
   "execution_count": 3,
   "metadata": {},
   "outputs": [],
   "source": [
    "import pandas as pd\n",
    "import os \n",
    "import matplotlib.pyplot as plt\n",
    "import seaborn as sns\n",
    "\n",
    "ruta = os.path.abspath('../Datasets')"
   ]
  },
  {
   "cell_type": "code",
   "execution_count": 4,
   "metadata": {},
   "outputs": [],
   "source": [
    "df_compra = pd.read_csv(ruta + '/Compra.csv', sep=',', encoding='utf-8')"
   ]
  },
  {
   "cell_type": "code",
   "execution_count": 5,
   "metadata": {},
   "outputs": [
    {
     "data": {
      "text/plain": [
       "0"
      ]
     },
     "execution_count": 5,
     "metadata": {},
     "output_type": "execute_result"
    }
   ],
   "source": [
    "#eliminando IdCompra\n",
    "df_compra.drop(['IdCompra'],axis=1,inplace=True)\n",
    "#filas duplicadas\n",
    "df_compra.duplicated().sum()"
   ]
  },
  {
   "cell_type": "markdown",
   "metadata": {},
   "source": [
    "## Detección de Outliers"
   ]
  },
  {
   "cell_type": "code",
   "execution_count": 6,
   "metadata": {},
   "outputs": [],
   "source": [
    "Q1 = df_compra['Precio'].quantile(.25)\n",
    "Q3 = df_compra['Precio'].quantile(.75)\n",
    "IQR = Q3 -Q1\n",
    "minimo = Q1 - 1.5 * IQR\n",
    "maximo = Q3 + 1.5 * IQR"
   ]
  },
  {
   "cell_type": "code",
   "execution_count": 7,
   "metadata": {},
   "outputs": [
    {
     "data": {
      "text/html": [
       "<div>\n",
       "<style scoped>\n",
       "    .dataframe tbody tr th:only-of-type {\n",
       "        vertical-align: middle;\n",
       "    }\n",
       "\n",
       "    .dataframe tbody tr th {\n",
       "        vertical-align: top;\n",
       "    }\n",
       "\n",
       "    .dataframe thead th {\n",
       "        text-align: right;\n",
       "    }\n",
       "</style>\n",
       "<table border=\"1\" class=\"dataframe\">\n",
       "  <thead>\n",
       "    <tr style=\"text-align: right;\">\n",
       "      <th></th>\n",
       "      <th>Fecha</th>\n",
       "      <th>Fecha_Año</th>\n",
       "      <th>Fecha_Mes</th>\n",
       "      <th>Fecha_Periodo</th>\n",
       "      <th>IdProducto</th>\n",
       "      <th>Cantidad</th>\n",
       "      <th>Precio</th>\n",
       "      <th>IdProveedor</th>\n",
       "    </tr>\n",
       "  </thead>\n",
       "  <tbody>\n",
       "    <tr>\n",
       "      <th>580</th>\n",
       "      <td>4/24/2015</td>\n",
       "      <td>2015</td>\n",
       "      <td>4</td>\n",
       "      <td>201504</td>\n",
       "      <td>42782</td>\n",
       "      <td>10</td>\n",
       "      <td>2691.85</td>\n",
       "      <td>7</td>\n",
       "    </tr>\n",
       "    <tr>\n",
       "      <th>5833</th>\n",
       "      <td>4/27/2018</td>\n",
       "      <td>2018</td>\n",
       "      <td>4</td>\n",
       "      <td>201804</td>\n",
       "      <td>42936</td>\n",
       "      <td>3</td>\n",
       "      <td>2692.87</td>\n",
       "      <td>14</td>\n",
       "    </tr>\n",
       "    <tr>\n",
       "      <th>8607</th>\n",
       "      <td>10/25/2019</td>\n",
       "      <td>2019</td>\n",
       "      <td>1</td>\n",
       "      <td>201901</td>\n",
       "      <td>42782</td>\n",
       "      <td>22</td>\n",
       "      <td>2693.43</td>\n",
       "      <td>2</td>\n",
       "    </tr>\n",
       "    <tr>\n",
       "      <th>10422</th>\n",
       "      <td>7/31/2020</td>\n",
       "      <td>2020</td>\n",
       "      <td>7</td>\n",
       "      <td>202007</td>\n",
       "      <td>42780</td>\n",
       "      <td>6</td>\n",
       "      <td>2694.01</td>\n",
       "      <td>6</td>\n",
       "    </tr>\n",
       "    <tr>\n",
       "      <th>730</th>\n",
       "      <td>5/29/2015</td>\n",
       "      <td>2015</td>\n",
       "      <td>5</td>\n",
       "      <td>201505</td>\n",
       "      <td>42780</td>\n",
       "      <td>12</td>\n",
       "      <td>2694.41</td>\n",
       "      <td>6</td>\n",
       "    </tr>\n",
       "    <tr>\n",
       "      <th>...</th>\n",
       "      <td>...</td>\n",
       "      <td>...</td>\n",
       "      <td>...</td>\n",
       "      <td>...</td>\n",
       "      <td>...</td>\n",
       "      <td>...</td>\n",
       "      <td>...</td>\n",
       "      <td>...</td>\n",
       "    </tr>\n",
       "    <tr>\n",
       "      <th>6805</th>\n",
       "      <td>10/26/2018</td>\n",
       "      <td>2018</td>\n",
       "      <td>1</td>\n",
       "      <td>201801</td>\n",
       "      <td>42773</td>\n",
       "      <td>2</td>\n",
       "      <td>577223.00</td>\n",
       "      <td>13</td>\n",
       "    </tr>\n",
       "    <tr>\n",
       "      <th>7414</th>\n",
       "      <td>2/22/2019</td>\n",
       "      <td>2019</td>\n",
       "      <td>2</td>\n",
       "      <td>201902</td>\n",
       "      <td>42773</td>\n",
       "      <td>13</td>\n",
       "      <td>580886.00</td>\n",
       "      <td>6</td>\n",
       "    </tr>\n",
       "    <tr>\n",
       "      <th>8763</th>\n",
       "      <td>11/29/2019</td>\n",
       "      <td>2019</td>\n",
       "      <td>1</td>\n",
       "      <td>201901</td>\n",
       "      <td>42779</td>\n",
       "      <td>17</td>\n",
       "      <td>688826.00</td>\n",
       "      <td>10</td>\n",
       "    </tr>\n",
       "    <tr>\n",
       "      <th>11272</th>\n",
       "      <td>11/27/2020</td>\n",
       "      <td>2020</td>\n",
       "      <td>11</td>\n",
       "      <td>202011</td>\n",
       "      <td>42779</td>\n",
       "      <td>7</td>\n",
       "      <td>707004.00</td>\n",
       "      <td>8</td>\n",
       "    </tr>\n",
       "    <tr>\n",
       "      <th>7613</th>\n",
       "      <td>4/26/2019</td>\n",
       "      <td>2019</td>\n",
       "      <td>4</td>\n",
       "      <td>201904</td>\n",
       "      <td>42917</td>\n",
       "      <td>33</td>\n",
       "      <td>10445800.00</td>\n",
       "      <td>11</td>\n",
       "    </tr>\n",
       "  </tbody>\n",
       "</table>\n",
       "<p>599 rows × 8 columns</p>\n",
       "</div>"
      ],
      "text/plain": [
       "            Fecha  Fecha_Año  Fecha_Mes  Fecha_Periodo  IdProducto  Cantidad  \\\n",
       "580     4/24/2015       2015          4         201504       42782        10   \n",
       "5833    4/27/2018       2018          4         201804       42936         3   \n",
       "8607   10/25/2019       2019          1         201901       42782        22   \n",
       "10422   7/31/2020       2020          7         202007       42780         6   \n",
       "730     5/29/2015       2015          5         201505       42780        12   \n",
       "...           ...        ...        ...            ...         ...       ...   \n",
       "6805   10/26/2018       2018          1         201801       42773         2   \n",
       "7414    2/22/2019       2019          2         201902       42773        13   \n",
       "8763   11/29/2019       2019          1         201901       42779        17   \n",
       "11272  11/27/2020       2020         11         202011       42779         7   \n",
       "7613    4/26/2019       2019          4         201904       42917        33   \n",
       "\n",
       "            Precio  IdProveedor  \n",
       "580        2691.85            7  \n",
       "5833       2692.87           14  \n",
       "8607       2693.43            2  \n",
       "10422      2694.01            6  \n",
       "730        2694.41            6  \n",
       "...            ...          ...  \n",
       "6805     577223.00           13  \n",
       "7414     580886.00            6  \n",
       "8763     688826.00           10  \n",
       "11272    707004.00            8  \n",
       "7613   10445800.00           11  \n",
       "\n",
       "[599 rows x 8 columns]"
      ]
     },
     "execution_count": 7,
     "metadata": {},
     "output_type": "execute_result"
    }
   ],
   "source": [
    "ubicacion_outliers = (df_compra.Precio < minimo) | (df_compra.Precio > maximo)\n",
    "df_compra[ubicacion_outliers].sort_values('Precio')"
   ]
  },
  {
   "cell_type": "code",
   "execution_count": 10,
   "metadata": {},
   "outputs": [
    {
     "data": {
      "text/html": [
       "<div>\n",
       "<style scoped>\n",
       "    .dataframe tbody tr th:only-of-type {\n",
       "        vertical-align: middle;\n",
       "    }\n",
       "\n",
       "    .dataframe tbody tr th {\n",
       "        vertical-align: top;\n",
       "    }\n",
       "\n",
       "    .dataframe thead th {\n",
       "        text-align: right;\n",
       "    }\n",
       "</style>\n",
       "<table border=\"1\" class=\"dataframe\">\n",
       "  <thead>\n",
       "    <tr style=\"text-align: right;\">\n",
       "      <th></th>\n",
       "      <th>Fecha</th>\n",
       "      <th>Fecha_Año</th>\n",
       "      <th>Fecha_Mes</th>\n",
       "      <th>Fecha_Periodo</th>\n",
       "      <th>IdProducto</th>\n",
       "      <th>Cantidad</th>\n",
       "      <th>Precio</th>\n",
       "      <th>IdProveedor</th>\n",
       "    </tr>\n",
       "  </thead>\n",
       "  <tbody>\n",
       "    <tr>\n",
       "      <th>130</th>\n",
       "      <td>1/30/2015</td>\n",
       "      <td>2015</td>\n",
       "      <td>1</td>\n",
       "      <td>201501</td>\n",
       "      <td>42782</td>\n",
       "      <td>6</td>\n",
       "      <td>2678.34</td>\n",
       "      <td>1</td>\n",
       "    </tr>\n",
       "    <tr>\n",
       "      <th>580</th>\n",
       "      <td>4/24/2015</td>\n",
       "      <td>2015</td>\n",
       "      <td>4</td>\n",
       "      <td>201504</td>\n",
       "      <td>42782</td>\n",
       "      <td>10</td>\n",
       "      <td>2691.85</td>\n",
       "      <td>7</td>\n",
       "    </tr>\n",
       "    <tr>\n",
       "      <th>732</th>\n",
       "      <td>5/29/2015</td>\n",
       "      <td>2015</td>\n",
       "      <td>5</td>\n",
       "      <td>201505</td>\n",
       "      <td>42782</td>\n",
       "      <td>3</td>\n",
       "      <td>2347.42</td>\n",
       "      <td>13</td>\n",
       "    </tr>\n",
       "    <tr>\n",
       "      <th>878</th>\n",
       "      <td>6/26/2015</td>\n",
       "      <td>2015</td>\n",
       "      <td>6</td>\n",
       "      <td>201506</td>\n",
       "      <td>42782</td>\n",
       "      <td>4</td>\n",
       "      <td>2422.17</td>\n",
       "      <td>3</td>\n",
       "    </tr>\n",
       "    <tr>\n",
       "      <th>1186</th>\n",
       "      <td>8/28/2015</td>\n",
       "      <td>2015</td>\n",
       "      <td>8</td>\n",
       "      <td>201508</td>\n",
       "      <td>42782</td>\n",
       "      <td>4</td>\n",
       "      <td>2031.08</td>\n",
       "      <td>13</td>\n",
       "    </tr>\n",
       "  </tbody>\n",
       "</table>\n",
       "</div>"
      ],
      "text/plain": [
       "          Fecha  Fecha_Año  Fecha_Mes  Fecha_Periodo  IdProducto  Cantidad  \\\n",
       "130   1/30/2015       2015          1         201501       42782         6   \n",
       "580   4/24/2015       2015          4         201504       42782        10   \n",
       "732   5/29/2015       2015          5         201505       42782         3   \n",
       "878   6/26/2015       2015          6         201506       42782         4   \n",
       "1186  8/28/2015       2015          8         201508       42782         4   \n",
       "\n",
       "       Precio  IdProveedor  \n",
       "130   2678.34            1  \n",
       "580   2691.85            7  \n",
       "732   2347.42           13  \n",
       "878   2422.17            3  \n",
       "1186  2031.08           13  "
      ]
     },
     "execution_count": 10,
     "metadata": {},
     "output_type": "execute_result"
    }
   ],
   "source": [
    "#analizando uno de los posibles outliers\n",
    "df_compra[df_compra.IdProducto == 42782].head()"
   ]
  },
  {
   "cell_type": "markdown",
   "metadata": {},
   "source": [
    "Podemos observar que el supuesto valor que es un outlier para la columna Precio, es un valor normal para el tipo de producto: 42782.\n",
    "Lo que nos hace concluir que la estrategia que estamos usando para detectar outliers no es la adecuada.\n",
    "Ya que la empresa tiene diferentes tipos de productos, buscaremos los valores atipicos en función del IdProducto."
   ]
  },
  {
   "cell_type": "code",
   "execution_count": 12,
   "metadata": {},
   "outputs": [
    {
     "data": {
      "text/plain": [
       "283"
      ]
     },
     "execution_count": 12,
     "metadata": {},
     "output_type": "execute_result"
    }
   ],
   "source": [
    "#numero de diferentes productos existentes en la cartera de la empresa\n",
    "df_compra.IdProducto.nunique()"
   ]
  },
  {
   "cell_type": "code",
   "execution_count": 13,
   "metadata": {},
   "outputs": [],
   "source": [
    "#rango intercuantílico para un solo producto\n",
    "df_id = df_compra[df_compra.IdProducto == 42782]\n",
    "Q1 = df_id['Precio'].quantile(.25)\n",
    "Q3 = df_id['Precio'].quantile(.75)\n",
    "IQR = Q3 -Q1\n",
    "minimo = Q1 - 1.5 * IQR\n",
    "maximo = Q3 + 1.5 * IQR"
   ]
  },
  {
   "cell_type": "code",
   "execution_count": 16,
   "metadata": {},
   "outputs": [
    {
     "data": {
      "text/html": [
       "<div>\n",
       "<style scoped>\n",
       "    .dataframe tbody tr th:only-of-type {\n",
       "        vertical-align: middle;\n",
       "    }\n",
       "\n",
       "    .dataframe tbody tr th {\n",
       "        vertical-align: top;\n",
       "    }\n",
       "\n",
       "    .dataframe thead th {\n",
       "        text-align: right;\n",
       "    }\n",
       "</style>\n",
       "<table border=\"1\" class=\"dataframe\">\n",
       "  <thead>\n",
       "    <tr style=\"text-align: right;\">\n",
       "      <th></th>\n",
       "      <th>Fecha</th>\n",
       "      <th>Fecha_Año</th>\n",
       "      <th>Fecha_Mes</th>\n",
       "      <th>Fecha_Periodo</th>\n",
       "      <th>IdProducto</th>\n",
       "      <th>Cantidad</th>\n",
       "      <th>Precio</th>\n",
       "      <th>IdProveedor</th>\n",
       "    </tr>\n",
       "  </thead>\n",
       "  <tbody>\n",
       "    <tr>\n",
       "      <th>9327</th>\n",
       "      <td>2/28/2020</td>\n",
       "      <td>2020</td>\n",
       "      <td>2</td>\n",
       "      <td>202002</td>\n",
       "      <td>42782</td>\n",
       "      <td>12</td>\n",
       "      <td>214566.0</td>\n",
       "      <td>4</td>\n",
       "    </tr>\n",
       "  </tbody>\n",
       "</table>\n",
       "</div>"
      ],
      "text/plain": [
       "          Fecha  Fecha_Año  Fecha_Mes  Fecha_Periodo  IdProducto  Cantidad  \\\n",
       "9327  2/28/2020       2020          2         202002       42782        12   \n",
       "\n",
       "        Precio  IdProveedor  \n",
       "9327  214566.0            4  "
      ]
     },
     "execution_count": 16,
     "metadata": {},
     "output_type": "execute_result"
    }
   ],
   "source": [
    "ubicacion_outliers = (df_id.Precio < minimo) | (df_id.Precio > maximo)\n",
    "df_id[ubicacion_outliers]"
   ]
  },
  {
   "cell_type": "markdown",
   "metadata": {},
   "source": [
    "Vemos que la estrategia de busqueda de outliers por IdProducto es más certero. Generalicemos el código para todo los productos."
   ]
  }
 ],
 "metadata": {
  "kernelspec": {
   "display_name": "Python 3.10.4 64-bit",
   "language": "python",
   "name": "python3"
  },
  "language_info": {
   "codemirror_mode": {
    "name": "ipython",
    "version": 3
   },
   "file_extension": ".py",
   "mimetype": "text/x-python",
   "name": "python",
   "nbconvert_exporter": "python",
   "pygments_lexer": "ipython3",
   "version": "3.10.4"
  },
  "orig_nbformat": 4,
  "vscode": {
   "interpreter": {
    "hash": "369f2c481f4da34e4445cda3fffd2e751bd1c4d706f27375911949ba6bb62e1c"
   }
  }
 },
 "nbformat": 4,
 "nbformat_minor": 2
}
